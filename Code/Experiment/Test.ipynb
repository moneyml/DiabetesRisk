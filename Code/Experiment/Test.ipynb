{
 "cells": [
  {
   "cell_type": "code",
   "execution_count": 1,
   "metadata": {
    "collapsed": true
   },
   "outputs": [],
   "source": [
    "import sys\n",
    "sys.path.append(\"../\")\n",
    "import pandas as pd\n",
    "import numpy as np\n",
    "from dateutil.parser import parse\n",
    "from sklearn import metrics\n",
    "import datetime\n",
    "\n",
    "import model_ml as mm\n",
    "import feat_engineering as fe\n",
    "from param_config import config"
   ]
  },
  {
   "cell_type": "code",
   "execution_count": 2,
   "metadata": {},
   "outputs": [],
   "source": [
    "dfTrain = pd.read_csv(config.original_train_data_path)\n",
    "dfPred = pd.read_csv(config.original_pred_data_path)\n",
    "predictors = dfPred.columns.tolist()[1:]"
   ]
  },
  {
   "cell_type": "code",
   "execution_count": 5,
   "metadata": {
    "collapsed": true
   },
   "outputs": [],
   "source": [
    "def FeatAll(train,pred):\n",
    "    dfAll = pd.concat([train,pred])\n",
    "    dfAll['date'] = (pd.to_datetime(dfAll['date']) - parse('2017-10-09')).dt.days\n",
    "    dfPcent = fe.pcent_single_col(dfAll,predictors)\n",
    "    \n",
    "    dfAll['age'] = pd.qcut(dfAll['age'],q=10,labels=['age_bin_%d'%i for i in range(10)])\n",
    "    dfAll = pd.concat([dfAll,pd.get_dummies(dfAll['age'])],axis=1)\n",
    "    del dfAll['age']\n",
    "    dfAll['date'] = pd.qcut(dfAll['date'],q=10,labels=['date_bin_%d'%i for i in range(10)])\n",
    "    dfAll = pd.concat([dfAll,pd.get_dummies(dfAll['date'])],axis=1)\n",
    "    del dfAll['date']\n",
    "    dfAll = pd.concat([dfAll,dfPcent],axis=1)\n",
    "    \n",
    "    for ratio in [['PartI_6','PartI_5'],['PartI_7','PartI_5'],['PartII_3','PartII_2'],['PartII_4','PartII_2']]:\n",
    "        dfAll[ratio[0]+'_divided_'+ratio[1]] = dfAll[ratio[0]]/dfAll[ratio[1]]\n",
    "        \n",
    "    for key,group in {'PartI':['PartI_1','PartI_2','PartI_3','PartI_4'],'PartII':['PartII_1','PartII_3','PartII_4']}.items():\n",
    "        dfAll['group_'+key+'_std'] = dfAll[group].std(axis=1)\n",
    "        dfAll['group_'+key+'_mean'] = dfAll[group].mean(axis=1)\n",
    "        dfAll['group_'+key+'_median'] = dfAll[group].median(axis=1)\n",
    "    \n",
    "    \n",
    "    dfTrain = dfAll.loc[dfAll['ID'].isin(train['ID'])]\n",
    "    dfPred = dfAll.loc[dfAll['ID'].isin(pred['ID'])]\n",
    "    \n",
    "    return dfTrain,dfPred\n",
    "    "
   ]
  },
  {
   "cell_type": "code",
   "execution_count": 6,
   "metadata": {},
   "outputs": [],
   "source": [
    "dfTrain,dfPred = FeatAll(dfTrain,dfPred)\n",
    "predictors = dfPred.columns.tolist()\n",
    "predictors.remove('ID')\n",
    "predictors.remove('Y')"
   ]
  },
  {
   "cell_type": "code",
   "execution_count": null,
   "metadata": {
    "collapsed": true
   },
   "outputs": [],
   "source": []
  },
  {
   "cell_type": "code",
   "execution_count": null,
   "metadata": {
    "scrolled": true
   },
   "outputs": [
    {
     "name": "stdout",
     "output_type": "stream",
     "text": [
      "[0]\ttrain-rmse:5.26819\teval-rmse:5.47414\n",
      "Multiple eval metrics have been passed: 'eval-rmse' will be used for early stopping.\n",
      "\n",
      "Will train until eval-rmse hasn't improved in 10 rounds.\n",
      "[100]\ttrain-rmse:2.28926\teval-rmse:2.63201\n",
      "[200]\ttrain-rmse:1.44285\teval-rmse:1.91475\n",
      "[300]\ttrain-rmse:1.2433\teval-rmse:1.77715\n",
      "[400]\ttrain-rmse:1.17687\teval-rmse:1.74853\n",
      "[500]\ttrain-rmse:1.13721\teval-rmse:1.73594\n",
      "[600]\ttrain-rmse:1.10709\teval-rmse:1.73079\n",
      "[700]\ttrain-rmse:1.08008\teval-rmse:1.72596\n",
      "Stopping. Best iteration:\n",
      "[691]\ttrain-rmse:1.0827\teval-rmse:1.72582\n",
      "\n",
      "Best tree is 692, performance is 1.082703, 1.725818\n",
      "[0]\ttrain-rmse:5.34442\teval-rmse:5.16923\n",
      "Multiple eval metrics have been passed: 'eval-rmse' will be used for early stopping.\n",
      "\n",
      "Will train until eval-rmse hasn't improved in 10 rounds.\n",
      "[100]\ttrain-rmse:2.37039\teval-rmse:2.17527\n",
      "[200]\ttrain-rmse:1.53004\teval-rmse:1.3759\n",
      "[300]\ttrain-rmse:1.32505\teval-rmse:1.25087\n",
      "Stopping. Best iteration:\n",
      "[352]\ttrain-rmse:1.28005\teval-rmse:1.24197\n",
      "\n",
      "Best tree is 353, performance is 1.280055, 1.241973\n",
      "[0]\ttrain-rmse:5.32219\teval-rmse:5.26008\n",
      "Multiple eval metrics have been passed: 'eval-rmse' will be used for early stopping.\n",
      "\n",
      "Will train until eval-rmse hasn't improved in 10 rounds.\n",
      "[100]\ttrain-rmse:2.35576\teval-rmse:2.30279\n",
      "[200]\ttrain-rmse:1.52234\teval-rmse:1.50436\n",
      "[300]\ttrain-rmse:1.32492\teval-rmse:1.34949\n",
      "[400]\ttrain-rmse:1.25138\teval-rmse:1.31789\n",
      "[500]\ttrain-rmse:1.20471\teval-rmse:1.30597\n",
      "[600]\ttrain-rmse:1.17005\teval-rmse:1.29767\n",
      "[700]\ttrain-rmse:1.14161\teval-rmse:1.29354\n",
      "Stopping. Best iteration:\n",
      "[787]\ttrain-rmse:1.12012\teval-rmse:1.28983\n",
      "\n",
      "Best tree is 788, performance is 1.120123, 1.289832\n",
      "[0]\ttrain-rmse:5.32225\teval-rmse:5.25932\n",
      "Multiple eval metrics have been passed: 'eval-rmse' will be used for early stopping.\n",
      "\n",
      "Will train until eval-rmse hasn't improved in 10 rounds.\n"
     ]
    }
   ],
   "source": [
    "test_result,result,imp = mm.xgb_kfold(dfTrain,dfPred,predictors)"
   ]
  },
  {
   "cell_type": "code",
   "execution_count": null,
   "metadata": {
    "collapsed": true
   },
   "outputs": [],
   "source": [
    "dfTrain_bin = dfTrain.copy()\n",
    "dfTrain_bin['bin'] = 0\n",
    "dfTrain_bin.loc[dfTrain_bin['Y']>=dfTrain_bin['Y'].quantile(0.85),'bin']=1\n",
    "dfTrain_bin['Y'] = dfTrain_bin['bin']\n",
    "del dfTrain_bin['bin']"
   ]
  },
  {
   "cell_type": "code",
   "execution_count": null,
   "metadata": {
    "scrolled": true
   },
   "outputs": [],
   "source": [
    "params = {'max_depth':3, 'eta':0.01, 'silent':0,'objective':'binary:logistic','lambda':1,'subsample':0.8,'colsample_bytree':0.8,'eval_metric':'logloss'}\n",
    "test_result_bin,result_bin,imp = mm.xgb_kfold(dfTrain_bin,dfPred,predictors,params=params)"
   ]
  },
  {
   "cell_type": "code",
   "execution_count": null,
   "metadata": {},
   "outputs": [],
   "source": [
    "test_result_bin['bin_score'] = test_result_bin['score']\n",
    "total_test = test_result.merge(test_result_bin[['ID','bin_score']],'inner','ID')\n",
    "\n",
    "\n",
    "#change_value = total_test.loc[total_test['target']>=total_test['target'].quantile(0.85),'target'].median()\n",
    "change_value = total_test['target'].quantile(0.85)\n",
    "total_test.loc[(total_test['bin_score']>=total_test['bin_score'].quantile(0.85))&(total_test['score']<change_value),'score'] = change_value\n",
    "total_test.loc[(total_test['bin_score']<total_test['bin_score'].quantile(0.7))&(total_test['score']>=change_value),'score'] = change_value\n",
    "\n",
    "\n",
    "print(\"Test MSE:\",metrics.mean_squared_error(total_test['target'], total_test['score']))"
   ]
  },
  {
   "cell_type": "code",
   "execution_count": null,
   "metadata": {
    "collapsed": true
   },
   "outputs": [],
   "source": [
    "test_result_bin['bin_score'] = test_result_bin['score']\n",
    "total_test = test_result.merge(test_result_bin[['ID','bin_score']],'inner','ID')"
   ]
  },
  {
   "cell_type": "code",
   "execution_count": null,
   "metadata": {},
   "outputs": [],
   "source": [
    "n_splits=5\n",
    "other_note=''\n",
    "result['score']=result[['Score_%d'%i for i in range(1,n_splits+1)]].mean(axis=1)\n",
    "result_bin['bin_score']=result_bin[['Score_%d'%i for i in range(1,n_splits+1)]].mean(axis=1)\n",
    "total_result = result.merge(result_bin[['ID','bin_score']],'inner','ID')\n",
    "\n",
    "total_result.loc[(total_result['bin_score']>=total_result['bin_score'].quantile(0.85))&(total_result['score']<change_value),'score'] = change_value\n",
    "total_result.loc[(total_result['bin_score']<total_result['bin_score'].quantile(0.7))&(total_result['score']>=change_value),'score'] = change_value\n",
    "\n",
    "\n",
    "submit = total_result[['ID','score']]\n",
    "today = datetime.date.today().strftime('%Y-%m-%d')\n",
    "submit.to_csv('../../Submission/submit_%s'%today+other_note+'.csv',header=False,index=False)\n",
    "total_test.to_csv('../../Submission/test/test_result_%s'%today+other_note+'.csv',index=False)"
   ]
  },
  {
   "cell_type": "code",
   "execution_count": null,
   "metadata": {
    "collapsed": true
   },
   "outputs": [],
   "source": []
  },
  {
   "cell_type": "code",
   "execution_count": null,
   "metadata": {
    "collapsed": true
   },
   "outputs": [],
   "source": []
  },
  {
   "cell_type": "code",
   "execution_count": null,
   "metadata": {},
   "outputs": [],
   "source": [
    "tmp = test_result.loc[test_result['target']>7]\n",
    "tmp['power'] = np.power(tmp['target']-tmp['score'],2)\n",
    "print(tmp['power'].mean())"
   ]
  },
  {
   "cell_type": "code",
   "execution_count": null,
   "metadata": {},
   "outputs": [],
   "source": [
    "tmp = test_result.loc[test_result['target']<=7]\n",
    "tmp['power'] = np.power(tmp['target']-tmp['score'],2)\n",
    "print(tmp['power'].mean())"
   ]
  },
  {
   "cell_type": "code",
   "execution_count": null,
   "metadata": {},
   "outputs": [],
   "source": [
    "test_result.describe()"
   ]
  },
  {
   "cell_type": "code",
   "execution_count": null,
   "metadata": {
    "scrolled": true
   },
   "outputs": [],
   "source": [
    "test_result.sort_values('score',ascending=False)"
   ]
  },
  {
   "cell_type": "code",
   "execution_count": null,
   "metadata": {
    "collapsed": true
   },
   "outputs": [],
   "source": []
  }
 ],
 "metadata": {
  "kernelspec": {
   "display_name": "Python 3",
   "language": "python",
   "name": "python3"
  },
  "language_info": {
   "codemirror_mode": {
    "name": "ipython",
    "version": 3
   },
   "file_extension": ".py",
   "mimetype": "text/x-python",
   "name": "python",
   "nbconvert_exporter": "python",
   "pygments_lexer": "ipython3",
   "version": "3.6.3"
  }
 },
 "nbformat": 4,
 "nbformat_minor": 2
}
