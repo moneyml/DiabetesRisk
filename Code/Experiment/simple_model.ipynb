{
 "cells": [
  {
   "cell_type": "code",
   "execution_count": null,
   "metadata": {
    "collapsed": true
   },
   "outputs": [],
   "source": [
    "### 只做单模型，其他的内容，等等再说，现在把单模型的表现提升上去再说吧"
   ]
  },
  {
   "cell_type": "code",
   "execution_count": 1,
   "metadata": {},
   "outputs": [],
   "source": [
    "import sys\n",
    "sys.path.append(\"../\")\n",
    "import pandas as pd\n",
    "import numpy as np\n",
    "from dateutil.parser import parse\n",
    "from sklearn import metrics\n",
    "import datetime\n",
    "\n",
    "import model_ml as mm\n",
    "import feat_engineering as fe\n",
    "import feat_selection as fs\n",
    "from param_config import config"
   ]
  },
  {
   "cell_type": "code",
   "execution_count": 2,
   "metadata": {
    "collapsed": true
   },
   "outputs": [],
   "source": [
    "dfTrain = pd.read_csv(config.original_train_data_path)\n",
    "dfPred = pd.read_csv(config.original_pred_data_path)\n",
    "predictors = dfPred.columns.tolist()[4:]\n",
    "check_missing = ['PartI_1','PartII_1','PartIII_1','PartIV_1','PartV_1','PartVI_1']\n",
    "\n",
    "\n",
    "###清理异常Y值\n",
    "dfTrain = dfTrain.loc[dfTrain['Y']<dfTrain['Y'].max()]\n",
    "dfTrain = dfTrain.reset_index(drop=True)"
   ]
  },
  {
   "cell_type": "code",
   "execution_count": 3,
   "metadata": {
    "collapsed": true
   },
   "outputs": [],
   "source": [
    "def FeatAll(train,pred):\n",
    "    dfAll = pd.concat([train,pred])\n",
    "    dfAll = dfAll.reset_index(drop=True)\n",
    "    dfAll['date'] = (pd.to_datetime(dfAll['date']) - parse('2017-10-09')).dt.days\n",
    "\n",
    "    ###这个部分将每一列分箱，并且计算基于该列分类的其他列的百分比顺序，目前看来没啥用\n",
    "    var_dict = {}\n",
    "    for colBase in predictors+['sex','age']:\n",
    "        if dfAll[colBase].nunique()<=5:\n",
    "            var_dict[colBase] = [x for x in predictors if x!=colBase]\n",
    "        else:\n",
    "            dfAll[colBase+'_based'] = pd.cut(dfAll[colBase],bins=5,labels=[colBase+'_bin_%d'%i for i in range(5)])\n",
    "            dfAll[colBase+'_based'] = dfAll[colBase+'_based'].astype(str)\n",
    "            dfAll[colBase+'_based'].fillna(colBase+'_bin_NA',inplace = True)\n",
    "            var_dict[colBase+'_based'] = [x for x in predictors if x!=colBase]\n",
    "    #dfAllPcentByOther = fe.pcent_by_other_col(dfAll,var_dict,['ID']) \n",
    "    #dfAllPcentByOther = pd.read_csv('../../Cache/pcent_by_other.csv')\n",
    "    \n",
    "    for var in dfAll.columns:\n",
    "        if '_based' in var:\n",
    "            del dfAll[var]\n",
    "            \n",
    "    ###根据日期放置一个百分比顺序作为尝试\n",
    "    dfAllPcentByDate = fe.pcent_by_other_col(dfAll,{'date':predictors},['ID']) \n",
    "    \n",
    "    '''dfAll['date'] = pd.qcut(dfAll['date'],q=10,labels=['date_bin_%d'%i for i in range(10)])\n",
    "    dfAll = pd.concat([dfAll,pd.get_dummies(dfAll['date'])],axis=1)'''\n",
    "    ###目前不想使用日期，觉得用处不大\n",
    "    del dfAll['date']\n",
    "\n",
    "    #for minus in \n",
    "    \n",
    "    '''for ratio in [['PartI_6','PartI_5'],['PartI_7','PartI_5'],['PartII_3','PartII_2'],['PartII_4','PartII_2'],['PartV_2','PartV_1'],['PartII_1','PartII_2']]:\n",
    "        dfAll[ratio[0]+'_divided_'+ratio[1]] = dfAll[ratio[0]]/dfAll[ratio[1]]'''\n",
    "        \n",
    "    '''for multiply in [['PartV_1','PartV_9'],['PartV_1','PartV_10'],['PartV_1','PartV_11'],['PartV_1','PartV_12'],['PartV_1','PartV_13']]:\n",
    "        dfAll[multiply[0]+'_multiply_'+multiply[1]] = dfAll[multiply[0]]/dfAll[multiply[1]]'''\n",
    "    \n",
    "    \n",
    "    ###看看missing 的情况\n",
    "    '''dfAll['missing_cnt'] = dfAll[check_missing].isnull().sum(axis=1)\n",
    "    for i in range(len(check_missing)):\n",
    "        dfAll['missing_part%d'%i] = dfAll[check_missing[i]].isnull().astype(int)'''\n",
    "    \n",
    "    \n",
    "    '''for key,group in {'PartI':['PartI_1','PartI_2','PartI_3','PartI_4'],'PartII':['PartII_1','PartII_3','PartII_4']}.items():\n",
    "        dfAll['group_'+key+'_std'] = dfAll[group].std(axis=1)\n",
    "        dfAll['group_'+key+'_mean'] = dfAll[group].mean(axis=1)\n",
    "        dfAll['group_'+key+'_median'] = dfAll[group].median(axis=1)'''\n",
    "    \n",
    "    #dfAll = dfAll.merge(dfAllPcentByOther,'inner','ID')\n",
    "    dfAll = dfAll.merge(dfAllPcentByDate,'inner','ID')\n",
    "    \n",
    "    \n",
    "    dfTrain = dfAll.loc[dfAll['ID'].isin(train['ID'])]\n",
    "    dfPred = dfAll.loc[dfAll['ID'].isin(pred['ID'])]\n",
    "    \n",
    "    return dfTrain,dfPred,var_dict"
   ]
  },
  {
   "cell_type": "code",
   "execution_count": 4,
   "metadata": {},
   "outputs": [
    {
     "name": "stderr",
     "output_type": "stream",
     "text": [
      "C:\\Users\\Leo Mao\\Anaconda3\\lib\\site-packages\\pandas\\core\\indexing.py:194: SettingWithCopyWarning: \n",
      "A value is trying to be set on a copy of a slice from a DataFrame\n",
      "\n",
      "See the caveats in the documentation: http://pandas.pydata.org/pandas-docs/stable/indexing.html#indexing-view-versus-copy\n",
      "  self._setitem_with_indexer(indexer, value)\n"
     ]
    }
   ],
   "source": [
    "dfTrain,dfPred,var_dict = FeatAll(dfTrain,dfPred)\n",
    "predictors = dfPred.columns.tolist()\n",
    "predictors.remove('ID')\n",
    "predictors.remove('Y')"
   ]
  },
  {
   "cell_type": "code",
   "execution_count": 5,
   "metadata": {},
   "outputs": [
    {
     "data": {
      "text/plain": [
       "76"
      ]
     },
     "execution_count": 5,
     "metadata": {},
     "output_type": "execute_result"
    }
   ],
   "source": [
    "len(predictors)"
   ]
  },
  {
   "cell_type": "code",
   "execution_count": null,
   "metadata": {},
   "outputs": [],
   "source": [
    "predictors"
   ]
  },
  {
   "cell_type": "code",
   "execution_count": null,
   "metadata": {},
   "outputs": [],
   "source": [
    "'''keep = ['ID']\n",
    "for var in predictors:\n",
    "    if 'pcent' in var and '_y' not in var:\n",
    "        print(var)\n",
    "        keep.append(var)\n",
    "keep\n",
    "dfAll = pd.concat([dfTrain[keep],dfPred[keep]])\n",
    "rename_dict = {}\n",
    "for var in keep:\n",
    "    if '_x' in var:\n",
    "        rename_dict[var] = var[0:-2]\n",
    "dfAll = dfAll.rename(columns=rename_dict)\n",
    "dfAll.to_csv('../../Cache/pcent_by_other.csv',index = False)'''"
   ]
  },
  {
   "cell_type": "code",
   "execution_count": 6,
   "metadata": {
    "scrolled": true
   },
   "outputs": [
    {
     "name": "stdout",
     "output_type": "stream",
     "text": [
      "[0]\ttrain-rmse:5.27715\teval-rmse:5.32362\n",
      "Multiple eval metrics have been passed: 'eval-rmse' will be used for early stopping.\n",
      "\n",
      "Will train until eval-rmse hasn't improved in 10 rounds.\n",
      "[100]\ttrain-rmse:2.29632\teval-rmse:2.39389\n",
      "[200]\ttrain-rmse:1.44578\teval-rmse:1.61412\n",
      "[300]\ttrain-rmse:1.24854\teval-rmse:1.46511\n",
      "[400]\ttrain-rmse:1.18574\teval-rmse:1.43782\n",
      "[500]\ttrain-rmse:1.14792\teval-rmse:1.43083\n",
      "Stopping. Best iteration:\n",
      "[533]\ttrain-rmse:1.13649\teval-rmse:1.42843\n",
      "\n",
      "Best tree is 534, performance is 1.136486, 1.428427\n",
      "[0]\ttrain-rmse:5.29716\teval-rmse:5.24312\n",
      "Multiple eval metrics have been passed: 'eval-rmse' will be used for early stopping.\n",
      "\n",
      "Will train until eval-rmse hasn't improved in 10 rounds.\n",
      "[100]\ttrain-rmse:2.32321\teval-rmse:2.26567\n",
      "[200]\ttrain-rmse:1.47999\teval-rmse:1.45247\n",
      "[300]\ttrain-rmse:1.2813\teval-rmse:1.30264\n",
      "[400]\ttrain-rmse:1.2141\teval-rmse:1.2804\n",
      "[500]\ttrain-rmse:1.17266\teval-rmse:1.27422\n",
      "Stopping. Best iteration:\n",
      "[496]\ttrain-rmse:1.17421\teval-rmse:1.27413\n",
      "\n",
      "Best tree is 497, performance is 1.174213, 1.274134\n",
      "[0]\ttrain-rmse:5.29403\teval-rmse:5.25549\n",
      "Multiple eval metrics have been passed: 'eval-rmse' will be used for early stopping.\n",
      "\n",
      "Will train until eval-rmse hasn't improved in 10 rounds.\n",
      "[100]\ttrain-rmse:2.32107\teval-rmse:2.27305\n",
      "[200]\ttrain-rmse:1.4816\teval-rmse:1.45602\n",
      "[300]\ttrain-rmse:1.28403\teval-rmse:1.30187\n",
      "[400]\ttrain-rmse:1.21899\teval-rmse:1.27516\n",
      "[500]\ttrain-rmse:1.1786\teval-rmse:1.26756\n",
      "[600]\ttrain-rmse:1.14793\teval-rmse:1.26334\n",
      "Stopping. Best iteration:\n",
      "[590]\ttrain-rmse:1.15064\teval-rmse:1.26309\n",
      "\n",
      "Best tree is 591, performance is 1.150642, 1.263089\n",
      "[0]\ttrain-rmse:5.27076\teval-rmse:5.34904\n",
      "Multiple eval metrics have been passed: 'eval-rmse' will be used for early stopping.\n",
      "\n",
      "Will train until eval-rmse hasn't improved in 10 rounds.\n",
      "[100]\ttrain-rmse:2.28356\teval-rmse:2.44506\n",
      "[200]\ttrain-rmse:1.42999\teval-rmse:1.68609\n",
      "[300]\ttrain-rmse:1.23267\teval-rmse:1.54202\n",
      "[400]\ttrain-rmse:1.17276\teval-rmse:1.51142\n",
      "[500]\ttrain-rmse:1.13789\teval-rmse:1.49758\n",
      "Stopping. Best iteration:\n",
      "[585]\ttrain-rmse:1.11573\teval-rmse:1.49146\n",
      "\n",
      "Best tree is 586, performance is 1.115732, 1.491459\n",
      "[0]\ttrain-rmse:5.29283\teval-rmse:5.26023\n",
      "Multiple eval metrics have been passed: 'eval-rmse' will be used for early stopping.\n",
      "\n",
      "Will train until eval-rmse hasn't improved in 10 rounds.\n",
      "[100]\ttrain-rmse:2.31197\teval-rmse:2.29468\n",
      "[200]\ttrain-rmse:1.46585\teval-rmse:1.50189\n",
      "[300]\ttrain-rmse:1.26474\teval-rmse:1.35752\n",
      "[400]\ttrain-rmse:1.19616\teval-rmse:1.33463\n",
      "Stopping. Best iteration:\n",
      "[485]\ttrain-rmse:1.16101\teval-rmse:1.32985\n",
      "\n",
      "Best tree is 486, performance is 1.161012, 1.329849\n",
      "Test MSE: 1.85046680299\n"
     ]
    }
   ],
   "source": [
    "n_splits=5\n",
    "test_result,result,imp = mm.xgb_kfold(dfTrain,dfPred,predictors,n_splits)"
   ]
  },
  {
   "cell_type": "code",
   "execution_count": 7,
   "metadata": {},
   "outputs": [],
   "source": [
    "for i in range(1,n_splits+1):\n",
    "    imp['imp_fold%d'%i] = imp['imp_fold%d'%i]/imp['imp_fold%d'%i].sum()\n",
    "imp['sum_imp'] = imp[['imp_fold%d'%i for i in range(1,n_splits+1)]].sum(axis=1)"
   ]
  },
  {
   "cell_type": "code",
   "execution_count": 9,
   "metadata": {
    "scrolled": true
   },
   "outputs": [],
   "source": [
    "imp.sort_values('sum_imp',ascending=False)\n",
    "tmpPredictor = imp.sort_values('sum_imp',ascending=False)['variable'].values.tolist()[0:40]"
   ]
  },
  {
   "cell_type": "code",
   "execution_count": 10,
   "metadata": {},
   "outputs": [
    {
     "name": "stdout",
     "output_type": "stream",
     "text": [
      "[0]\ttrain-rmse:5.27723\teval-rmse:5.32348\n",
      "Multiple eval metrics have been passed: 'eval-rmse' will be used for early stopping.\n",
      "\n",
      "Will train until eval-rmse hasn't improved in 10 rounds.\n",
      "[100]\ttrain-rmse:2.29584\teval-rmse:2.39508\n",
      "[200]\ttrain-rmse:1.44841\teval-rmse:1.61365\n",
      "[300]\ttrain-rmse:1.25256\teval-rmse:1.46636\n",
      "[400]\ttrain-rmse:1.18811\teval-rmse:1.43747\n",
      "[500]\ttrain-rmse:1.15055\teval-rmse:1.42969\n",
      "Stopping. Best iteration:\n",
      "[492]\ttrain-rmse:1.15333\teval-rmse:1.42969\n",
      "\n",
      "Best tree is 493, performance is 1.153331, 1.429686\n",
      "[0]\ttrain-rmse:5.29711\teval-rmse:5.24313\n",
      "Multiple eval metrics have been passed: 'eval-rmse' will be used for early stopping.\n",
      "\n",
      "Will train until eval-rmse hasn't improved in 10 rounds.\n",
      "[100]\ttrain-rmse:2.32031\teval-rmse:2.26536\n",
      "[200]\ttrain-rmse:1.47748\teval-rmse:1.45358\n",
      "[300]\ttrain-rmse:1.28247\teval-rmse:1.30593\n",
      "[400]\ttrain-rmse:1.21581\teval-rmse:1.28023\n",
      "[500]\ttrain-rmse:1.17711\teval-rmse:1.27443\n",
      "Stopping. Best iteration:\n",
      "[502]\ttrain-rmse:1.17642\teval-rmse:1.27429\n",
      "\n",
      "Best tree is 503, performance is 1.176418, 1.274293\n",
      "[0]\ttrain-rmse:5.294\teval-rmse:5.25519\n",
      "Multiple eval metrics have been passed: 'eval-rmse' will be used for early stopping.\n",
      "\n",
      "Will train until eval-rmse hasn't improved in 10 rounds.\n",
      "[100]\ttrain-rmse:2.32022\teval-rmse:2.26963\n",
      "[200]\ttrain-rmse:1.48031\teval-rmse:1.45391\n",
      "[300]\ttrain-rmse:1.28719\teval-rmse:1.29971\n",
      "[400]\ttrain-rmse:1.22278\teval-rmse:1.27141\n",
      "[500]\ttrain-rmse:1.18407\teval-rmse:1.2628\n",
      "Stopping. Best iteration:\n",
      "[568]\ttrain-rmse:1.16224\teval-rmse:1.2592\n",
      "\n",
      "Best tree is 569, performance is 1.162243, 1.259195\n",
      "[0]\ttrain-rmse:5.27075\teval-rmse:5.349\n",
      "Multiple eval metrics have been passed: 'eval-rmse' will be used for early stopping.\n",
      "\n",
      "Will train until eval-rmse hasn't improved in 10 rounds.\n",
      "[100]\ttrain-rmse:2.28595\teval-rmse:2.4465\n",
      "[200]\ttrain-rmse:1.43066\teval-rmse:1.68856\n",
      "[300]\ttrain-rmse:1.23316\teval-rmse:1.54034\n",
      "[400]\ttrain-rmse:1.17359\teval-rmse:1.50479\n",
      "[500]\ttrain-rmse:1.14032\teval-rmse:1.49362\n",
      "[600]\ttrain-rmse:1.11489\teval-rmse:1.48615\n",
      "Stopping. Best iteration:\n",
      "[683]\ttrain-rmse:1.09715\teval-rmse:1.48133\n",
      "\n",
      "Best tree is 684, performance is 1.097152, 1.481333\n",
      "[0]\ttrain-rmse:5.29282\teval-rmse:5.26001\n",
      "Multiple eval metrics have been passed: 'eval-rmse' will be used for early stopping.\n",
      "\n",
      "Will train until eval-rmse hasn't improved in 10 rounds.\n",
      "[100]\ttrain-rmse:2.3129\teval-rmse:2.29556\n",
      "[200]\ttrain-rmse:1.46672\teval-rmse:1.4983\n",
      "[300]\ttrain-rmse:1.26855\teval-rmse:1.35305\n",
      "[400]\ttrain-rmse:1.20181\teval-rmse:1.33085\n",
      "[500]\ttrain-rmse:1.161\teval-rmse:1.32319\n",
      "[600]\ttrain-rmse:1.12853\teval-rmse:1.32132\n",
      "Stopping. Best iteration:\n",
      "[591]\ttrain-rmse:1.13131\teval-rmse:1.32106\n",
      "\n",
      "Best tree is 592, performance is 1.131306, 1.321055\n",
      "Test MSE: 1.83862284729\n"
     ]
    }
   ],
   "source": [
    "test_result,result,imp = mm.xgb_kfold(dfTrain,dfPred,tmpPredictor,n_splits)"
   ]
  },
  {
   "cell_type": "code",
   "execution_count": 11,
   "metadata": {
    "collapsed": true
   },
   "outputs": [],
   "source": [
    "n_splits=5\n",
    "other_note ='_test'\n",
    "result['score']=result[['Score_%d'%i for i in range(1,n_splits+1)]].mean(axis=1)\n",
    "submit = result[['ID','score']]\n",
    "today = datetime.date.today().strftime('%Y-%m-%d')\n",
    "result.to_csv('../../Submission/result/result_%s'%today+other_note+'.csv',index=False)\n",
    "submit['score'].to_csv('../../Submission/submit_%s'%today+other_note+'.csv',header=False,index=False)\n",
    "test_result.to_csv('../../Submission/test/test_result_%s'%today+other_note+'.csv',index=False)\n",
    "imp.to_csv('../../Submission/imp/importance_%s'%today+other_note+'.csv',index=False)"
   ]
  },
  {
   "cell_type": "code",
   "execution_count": null,
   "metadata": {
    "collapsed": true
   },
   "outputs": [],
   "source": [
    "###基础变量\n",
    "1.83977998784\n",
    "\n",
    "###增加部分比例数据，已经缺失体检项目情况\n",
    "1.84295123211  imp来看，missing信息没有意义\n",
    "\n",
    "###上一版去除missing\n",
    "1.83839589522\n",
    "\n",
    "\n",
    "\n",
    "###增加一些比值信息\n",
    "1.84354856365\n",
    "\n",
    "\n",
    "###根据日期的百分比，效果更加不好了\n",
    "1.85046680299  变量选择之后 1.83862284729"
   ]
  },
  {
   "cell_type": "code",
   "execution_count": null,
   "metadata": {
    "collapsed": true
   },
   "outputs": [],
   "source": []
  },
  {
   "cell_type": "code",
   "execution_count": null,
   "metadata": {
    "collapsed": true
   },
   "outputs": [],
   "source": []
  },
  {
   "cell_type": "code",
   "execution_count": null,
   "metadata": {
    "collapsed": true
   },
   "outputs": [],
   "source": []
  },
  {
   "cell_type": "code",
   "execution_count": null,
   "metadata": {
    "collapsed": true
   },
   "outputs": [],
   "source": []
  }
 ],
 "metadata": {
  "kernelspec": {
   "display_name": "Python 3",
   "language": "python",
   "name": "python3"
  },
  "language_info": {
   "codemirror_mode": {
    "name": "ipython",
    "version": 3
   },
   "file_extension": ".py",
   "mimetype": "text/x-python",
   "name": "python",
   "nbconvert_exporter": "python",
   "pygments_lexer": "ipython3",
   "version": "3.6.3"
  }
 },
 "nbformat": 4,
 "nbformat_minor": 2
}
