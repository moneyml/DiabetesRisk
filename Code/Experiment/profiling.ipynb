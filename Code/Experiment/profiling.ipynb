{
 "cells": [
  {
   "cell_type": "code",
   "execution_count": 18,
   "metadata": {
    "collapsed": true
   },
   "outputs": [],
   "source": [
    "import pandas as pd\n",
    "import numpy as np\n",
    "import matplotlib.pyplot as plt \n",
    "\n",
    "\n"
   ]
  },
  {
   "cell_type": "code",
   "execution_count": 19,
   "metadata": {
    "collapsed": true
   },
   "outputs": [],
   "source": [
    "df = pd.read_csv('../../Data/d_train_20180102.csv')"
   ]
  },
  {
   "cell_type": "code",
   "execution_count": 120,
   "metadata": {
    "collapsed": true
   },
   "outputs": [],
   "source": [
    "def custom_boxplot(df,baseVar,checkVar,category=True,bins=10):\n",
    "    dfPlot = df.copy()\n",
    "    if baseVar == checkVar:\n",
    "        print(dfPlot[checkVar].T.values.tolist())\n",
    "        plt.boxplot(dfPlot[checkVar].T.values.tolist(), labels =checkVar)  \n",
    "        plt.show()\n",
    "    else:\n",
    "        if category:\n",
    "            dfPlot = dfPlot.set_index(dfPlot[baseVar])\n",
    "            plt.boxplot([dfPlot.loc[var,checkVar].tolist() for var in dfPlot[baseVar].unique()],labels =dfPlot[baseVar].unique()) \n",
    "            plt.show()\n",
    "        else:\n",
    "            dfPlot['bins'] = pd.qcut(dfPlot[baseVar],q=bins,labels=range(bins))\n",
    "            dfPlot.sort_values('bins',ascending=True,inplace=True)\n",
    "            dfPlot['bins'] = dfPlot['bins'].astype(str)\n",
    "            dfPlot['bins'] = dfPlot['bins'].fillna('nan')\n",
    "            print(dfPlot['bins'].unique())\n",
    "            dfOutput = dfPlot.groupby(['bins'])\n",
    "            data = []\n",
    "            label =[]\n",
    "            for name,grp in dfOutput:\n",
    "                label.append(name)\n",
    "                data.append(grp[checkVar].values.tolist())\n",
    "            plt.boxplot(data,labels =label) \n",
    "            plt.show()\n"
   ]
  },
  {
   "cell_type": "code",
   "execution_count": 20,
   "metadata": {},
   "outputs": [
    {
     "data": {
      "text/html": [
       "<div>\n",
       "<style>\n",
       "    .dataframe thead tr:only-child th {\n",
       "        text-align: right;\n",
       "    }\n",
       "\n",
       "    .dataframe thead th {\n",
       "        text-align: left;\n",
       "    }\n",
       "\n",
       "    .dataframe tbody tr th {\n",
       "        vertical-align: top;\n",
       "    }\n",
       "</style>\n",
       "<table border=\"1\" class=\"dataframe\">\n",
       "  <thead>\n",
       "    <tr style=\"text-align: right;\">\n",
       "      <th></th>\n",
       "      <th>ID</th>\n",
       "      <th>sex</th>\n",
       "      <th>age</th>\n",
       "      <th>PartI_1</th>\n",
       "      <th>PartI_2</th>\n",
       "      <th>PartI_3</th>\n",
       "      <th>PartI_4</th>\n",
       "      <th>PartI_5</th>\n",
       "      <th>PartI_6</th>\n",
       "      <th>PartI_7</th>\n",
       "      <th>...</th>\n",
       "      <th>PartVI_1</th>\n",
       "      <th>PartVI_2</th>\n",
       "      <th>PartVI_3</th>\n",
       "      <th>PartVI_4</th>\n",
       "      <th>PartV_9</th>\n",
       "      <th>PartV_10</th>\n",
       "      <th>PartV_11</th>\n",
       "      <th>PartV_12</th>\n",
       "      <th>PartV_13</th>\n",
       "      <th>Y</th>\n",
       "    </tr>\n",
       "  </thead>\n",
       "  <tbody>\n",
       "    <tr>\n",
       "      <th>count</th>\n",
       "      <td>5642.000000</td>\n",
       "      <td>5641.000000</td>\n",
       "      <td>5642.000000</td>\n",
       "      <td>4421.000000</td>\n",
       "      <td>4421.00000</td>\n",
       "      <td>4421.000000</td>\n",
       "      <td>4421.000000</td>\n",
       "      <td>4421.000000</td>\n",
       "      <td>4421.000000</td>\n",
       "      <td>4421.000000</td>\n",
       "      <td>...</td>\n",
       "      <td>5626.000000</td>\n",
       "      <td>5619.000000</td>\n",
       "      <td>5619.000000</td>\n",
       "      <td>5619.000000</td>\n",
       "      <td>5626.000000</td>\n",
       "      <td>5626.000000</td>\n",
       "      <td>5626.000000</td>\n",
       "      <td>5626.000000</td>\n",
       "      <td>5626.000000</td>\n",
       "      <td>5642.000000</td>\n",
       "    </tr>\n",
       "    <tr>\n",
       "      <th>mean</th>\n",
       "      <td>2866.184155</td>\n",
       "      <td>0.509839</td>\n",
       "      <td>45.580468</td>\n",
       "      <td>26.805892</td>\n",
       "      <td>27.65202</td>\n",
       "      <td>87.482278</td>\n",
       "      <td>38.823762</td>\n",
       "      <td>76.771108</td>\n",
       "      <td>45.822504</td>\n",
       "      <td>30.948604</td>\n",
       "      <td>...</td>\n",
       "      <td>253.085318</td>\n",
       "      <td>10.653444</td>\n",
       "      <td>13.304414</td>\n",
       "      <td>0.267907</td>\n",
       "      <td>56.718468</td>\n",
       "      <td>33.778546</td>\n",
       "      <td>6.856772</td>\n",
       "      <td>2.043797</td>\n",
       "      <td>0.603697</td>\n",
       "      <td>5.631925</td>\n",
       "    </tr>\n",
       "    <tr>\n",
       "      <th>std</th>\n",
       "      <td>1655.555649</td>\n",
       "      <td>0.499948</td>\n",
       "      <td>12.961946</td>\n",
       "      <td>13.563003</td>\n",
       "      <td>22.61152</td>\n",
       "      <td>25.630897</td>\n",
       "      <td>40.788282</td>\n",
       "      <td>4.016055</td>\n",
       "      <td>2.617401</td>\n",
       "      <td>3.565997</td>\n",
       "      <td>...</td>\n",
       "      <td>59.586828</td>\n",
       "      <td>0.985484</td>\n",
       "      <td>2.173716</td>\n",
       "      <td>0.060503</td>\n",
       "      <td>7.799940</td>\n",
       "      <td>7.253097</td>\n",
       "      <td>1.567583</td>\n",
       "      <td>1.710901</td>\n",
       "      <td>0.291760</td>\n",
       "      <td>1.544882</td>\n",
       "    </tr>\n",
       "    <tr>\n",
       "      <th>min</th>\n",
       "      <td>1.000000</td>\n",
       "      <td>0.000000</td>\n",
       "      <td>3.000000</td>\n",
       "      <td>10.040000</td>\n",
       "      <td>0.12000</td>\n",
       "      <td>22.980000</td>\n",
       "      <td>6.360000</td>\n",
       "      <td>57.320000</td>\n",
       "      <td>29.540000</td>\n",
       "      <td>7.060000</td>\n",
       "      <td>...</td>\n",
       "      <td>37.000000</td>\n",
       "      <td>7.100000</td>\n",
       "      <td>8.000000</td>\n",
       "      <td>0.042000</td>\n",
       "      <td>14.400000</td>\n",
       "      <td>7.500000</td>\n",
       "      <td>3.100000</td>\n",
       "      <td>0.000000</td>\n",
       "      <td>0.000000</td>\n",
       "      <td>3.070000</td>\n",
       "    </tr>\n",
       "    <tr>\n",
       "      <th>50%</th>\n",
       "      <td>2870.500000</td>\n",
       "      <td>1.000000</td>\n",
       "      <td>45.000000</td>\n",
       "      <td>23.890000</td>\n",
       "      <td>21.48000</td>\n",
       "      <td>84.470000</td>\n",
       "      <td>26.190000</td>\n",
       "      <td>76.630000</td>\n",
       "      <td>45.820000</td>\n",
       "      <td>30.780000</td>\n",
       "      <td>...</td>\n",
       "      <td>249.000000</td>\n",
       "      <td>10.600000</td>\n",
       "      <td>12.900000</td>\n",
       "      <td>0.260000</td>\n",
       "      <td>56.700000</td>\n",
       "      <td>33.600000</td>\n",
       "      <td>6.700000</td>\n",
       "      <td>1.600000</td>\n",
       "      <td>0.600000</td>\n",
       "      <td>5.290000</td>\n",
       "    </tr>\n",
       "    <tr>\n",
       "      <th>75%</th>\n",
       "      <td>4302.750000</td>\n",
       "      <td>1.000000</td>\n",
       "      <td>54.000000</td>\n",
       "      <td>29.270000</td>\n",
       "      <td>32.30000</td>\n",
       "      <td>100.210000</td>\n",
       "      <td>43.850000</td>\n",
       "      <td>79.530000</td>\n",
       "      <td>47.570000</td>\n",
       "      <td>33.180000</td>\n",
       "      <td>...</td>\n",
       "      <td>289.000000</td>\n",
       "      <td>11.300000</td>\n",
       "      <td>14.600000</td>\n",
       "      <td>0.300000</td>\n",
       "      <td>62.000000</td>\n",
       "      <td>38.500000</td>\n",
       "      <td>7.700000</td>\n",
       "      <td>2.600000</td>\n",
       "      <td>0.700000</td>\n",
       "      <td>5.767500</td>\n",
       "    </tr>\n",
       "    <tr>\n",
       "      <th>80%</th>\n",
       "      <td>4588.800000</td>\n",
       "      <td>1.000000</td>\n",
       "      <td>56.000000</td>\n",
       "      <td>30.960000</td>\n",
       "      <td>36.03000</td>\n",
       "      <td>104.640000</td>\n",
       "      <td>50.940000</td>\n",
       "      <td>80.210000</td>\n",
       "      <td>47.970000</td>\n",
       "      <td>33.750000</td>\n",
       "      <td>...</td>\n",
       "      <td>300.000000</td>\n",
       "      <td>11.400000</td>\n",
       "      <td>15.100000</td>\n",
       "      <td>0.320000</td>\n",
       "      <td>63.100000</td>\n",
       "      <td>39.800000</td>\n",
       "      <td>8.000000</td>\n",
       "      <td>2.900000</td>\n",
       "      <td>0.800000</td>\n",
       "      <td>5.930000</td>\n",
       "    </tr>\n",
       "    <tr>\n",
       "      <th>85%</th>\n",
       "      <td>4871.850000</td>\n",
       "      <td>1.000000</td>\n",
       "      <td>59.000000</td>\n",
       "      <td>33.300000</td>\n",
       "      <td>41.23000</td>\n",
       "      <td>110.380000</td>\n",
       "      <td>59.660000</td>\n",
       "      <td>81.000000</td>\n",
       "      <td>48.540000</td>\n",
       "      <td>34.480000</td>\n",
       "      <td>...</td>\n",
       "      <td>313.000000</td>\n",
       "      <td>11.600000</td>\n",
       "      <td>15.800000</td>\n",
       "      <td>0.330000</td>\n",
       "      <td>64.625000</td>\n",
       "      <td>41.200000</td>\n",
       "      <td>8.400000</td>\n",
       "      <td>3.400000</td>\n",
       "      <td>0.900000</td>\n",
       "      <td>6.168500</td>\n",
       "    </tr>\n",
       "    <tr>\n",
       "      <th>90%</th>\n",
       "      <td>5155.900000</td>\n",
       "      <td>1.000000</td>\n",
       "      <td>63.000000</td>\n",
       "      <td>37.670000</td>\n",
       "      <td>48.80000</td>\n",
       "      <td>117.360000</td>\n",
       "      <td>73.870000</td>\n",
       "      <td>81.900000</td>\n",
       "      <td>49.140000</td>\n",
       "      <td>35.420000</td>\n",
       "      <td>...</td>\n",
       "      <td>328.500000</td>\n",
       "      <td>11.900000</td>\n",
       "      <td>16.500000</td>\n",
       "      <td>0.340000</td>\n",
       "      <td>66.500000</td>\n",
       "      <td>43.100000</td>\n",
       "      <td>8.800000</td>\n",
       "      <td>4.100000</td>\n",
       "      <td>1.000000</td>\n",
       "      <td>6.680000</td>\n",
       "    </tr>\n",
       "    <tr>\n",
       "      <th>95%</th>\n",
       "      <td>5441.950000</td>\n",
       "      <td>1.000000</td>\n",
       "      <td>68.000000</td>\n",
       "      <td>45.730000</td>\n",
       "      <td>64.14000</td>\n",
       "      <td>129.880000</td>\n",
       "      <td>110.090000</td>\n",
       "      <td>83.250000</td>\n",
       "      <td>50.080000</td>\n",
       "      <td>36.800000</td>\n",
       "      <td>...</td>\n",
       "      <td>354.000000</td>\n",
       "      <td>12.300000</td>\n",
       "      <td>17.100000</td>\n",
       "      <td>0.370000</td>\n",
       "      <td>69.500000</td>\n",
       "      <td>45.800000</td>\n",
       "      <td>9.600000</td>\n",
       "      <td>5.175000</td>\n",
       "      <td>1.100000</td>\n",
       "      <td>7.979000</td>\n",
       "    </tr>\n",
       "    <tr>\n",
       "      <th>99%</th>\n",
       "      <td>5674.590000</td>\n",
       "      <td>1.000000</td>\n",
       "      <td>80.000000</td>\n",
       "      <td>76.166000</td>\n",
       "      <td>116.78600</td>\n",
       "      <td>164.192000</td>\n",
       "      <td>204.336000</td>\n",
       "      <td>86.088000</td>\n",
       "      <td>51.924000</td>\n",
       "      <td>39.918000</td>\n",
       "      <td>...</td>\n",
       "      <td>414.000000</td>\n",
       "      <td>13.100000</td>\n",
       "      <td>19.300000</td>\n",
       "      <td>0.430000</td>\n",
       "      <td>75.300000</td>\n",
       "      <td>51.675000</td>\n",
       "      <td>11.475000</td>\n",
       "      <td>8.375000</td>\n",
       "      <td>1.500000</td>\n",
       "      <td>12.641300</td>\n",
       "    </tr>\n",
       "    <tr>\n",
       "      <th>max</th>\n",
       "      <td>5732.000000</td>\n",
       "      <td>1.000000</td>\n",
       "      <td>93.000000</td>\n",
       "      <td>434.950000</td>\n",
       "      <td>498.89000</td>\n",
       "      <td>374.320000</td>\n",
       "      <td>736.990000</td>\n",
       "      <td>100.410000</td>\n",
       "      <td>54.080000</td>\n",
       "      <td>66.180000</td>\n",
       "      <td>...</td>\n",
       "      <td>745.000000</td>\n",
       "      <td>15.200000</td>\n",
       "      <td>25.300000</td>\n",
       "      <td>0.710000</td>\n",
       "      <td>88.500000</td>\n",
       "      <td>76.300000</td>\n",
       "      <td>23.200000</td>\n",
       "      <td>22.500000</td>\n",
       "      <td>3.500000</td>\n",
       "      <td>38.430000</td>\n",
       "    </tr>\n",
       "  </tbody>\n",
       "</table>\n",
       "<p>12 rows × 41 columns</p>\n",
       "</div>"
      ],
      "text/plain": [
       "                ID          sex          age      PartI_1     PartI_2  \\\n",
       "count  5642.000000  5641.000000  5642.000000  4421.000000  4421.00000   \n",
       "mean   2866.184155     0.509839    45.580468    26.805892    27.65202   \n",
       "std    1655.555649     0.499948    12.961946    13.563003    22.61152   \n",
       "min       1.000000     0.000000     3.000000    10.040000     0.12000   \n",
       "50%    2870.500000     1.000000    45.000000    23.890000    21.48000   \n",
       "75%    4302.750000     1.000000    54.000000    29.270000    32.30000   \n",
       "80%    4588.800000     1.000000    56.000000    30.960000    36.03000   \n",
       "85%    4871.850000     1.000000    59.000000    33.300000    41.23000   \n",
       "90%    5155.900000     1.000000    63.000000    37.670000    48.80000   \n",
       "95%    5441.950000     1.000000    68.000000    45.730000    64.14000   \n",
       "99%    5674.590000     1.000000    80.000000    76.166000   116.78600   \n",
       "max    5732.000000     1.000000    93.000000   434.950000   498.89000   \n",
       "\n",
       "           PartI_3      PartI_4      PartI_5      PartI_6      PartI_7  \\\n",
       "count  4421.000000  4421.000000  4421.000000  4421.000000  4421.000000   \n",
       "mean     87.482278    38.823762    76.771108    45.822504    30.948604   \n",
       "std      25.630897    40.788282     4.016055     2.617401     3.565997   \n",
       "min      22.980000     6.360000    57.320000    29.540000     7.060000   \n",
       "50%      84.470000    26.190000    76.630000    45.820000    30.780000   \n",
       "75%     100.210000    43.850000    79.530000    47.570000    33.180000   \n",
       "80%     104.640000    50.940000    80.210000    47.970000    33.750000   \n",
       "85%     110.380000    59.660000    81.000000    48.540000    34.480000   \n",
       "90%     117.360000    73.870000    81.900000    49.140000    35.420000   \n",
       "95%     129.880000   110.090000    83.250000    50.080000    36.800000   \n",
       "99%     164.192000   204.336000    86.088000    51.924000    39.918000   \n",
       "max     374.320000   736.990000   100.410000    54.080000    66.180000   \n",
       "\n",
       "          ...          PartVI_1     PartVI_2     PartVI_3     PartVI_4  \\\n",
       "count     ...       5626.000000  5619.000000  5619.000000  5619.000000   \n",
       "mean      ...        253.085318    10.653444    13.304414     0.267907   \n",
       "std       ...         59.586828     0.985484     2.173716     0.060503   \n",
       "min       ...         37.000000     7.100000     8.000000     0.042000   \n",
       "50%       ...        249.000000    10.600000    12.900000     0.260000   \n",
       "75%       ...        289.000000    11.300000    14.600000     0.300000   \n",
       "80%       ...        300.000000    11.400000    15.100000     0.320000   \n",
       "85%       ...        313.000000    11.600000    15.800000     0.330000   \n",
       "90%       ...        328.500000    11.900000    16.500000     0.340000   \n",
       "95%       ...        354.000000    12.300000    17.100000     0.370000   \n",
       "99%       ...        414.000000    13.100000    19.300000     0.430000   \n",
       "max       ...        745.000000    15.200000    25.300000     0.710000   \n",
       "\n",
       "           PartV_9     PartV_10     PartV_11     PartV_12     PartV_13  \\\n",
       "count  5626.000000  5626.000000  5626.000000  5626.000000  5626.000000   \n",
       "mean     56.718468    33.778546     6.856772     2.043797     0.603697   \n",
       "std       7.799940     7.253097     1.567583     1.710901     0.291760   \n",
       "min      14.400000     7.500000     3.100000     0.000000     0.000000   \n",
       "50%      56.700000    33.600000     6.700000     1.600000     0.600000   \n",
       "75%      62.000000    38.500000     7.700000     2.600000     0.700000   \n",
       "80%      63.100000    39.800000     8.000000     2.900000     0.800000   \n",
       "85%      64.625000    41.200000     8.400000     3.400000     0.900000   \n",
       "90%      66.500000    43.100000     8.800000     4.100000     1.000000   \n",
       "95%      69.500000    45.800000     9.600000     5.175000     1.100000   \n",
       "99%      75.300000    51.675000    11.475000     8.375000     1.500000   \n",
       "max      88.500000    76.300000    23.200000    22.500000     3.500000   \n",
       "\n",
       "                 Y  \n",
       "count  5642.000000  \n",
       "mean      5.631925  \n",
       "std       1.544882  \n",
       "min       3.070000  \n",
       "50%       5.290000  \n",
       "75%       5.767500  \n",
       "80%       5.930000  \n",
       "85%       6.168500  \n",
       "90%       6.680000  \n",
       "95%       7.979000  \n",
       "99%      12.641300  \n",
       "max      38.430000  \n",
       "\n",
       "[12 rows x 41 columns]"
      ]
     },
     "execution_count": 20,
     "metadata": {},
     "output_type": "execute_result"
    }
   ],
   "source": [
    "df.describe(percentiles=[.75,.8,.85,.9,.95,.99])"
   ]
  },
  {
   "cell_type": "code",
   "execution_count": 15,
   "metadata": {},
   "outputs": [
    {
     "name": "stdout",
     "output_type": "stream",
     "text": [
      "0       6.06\n",
      "1       5.39\n",
      "2       5.59\n",
      "4       5.42\n",
      "5       5.97\n",
      "6       5.11\n",
      "7       5.94\n",
      "8       5.66\n",
      "9       5.48\n",
      "11      5.48\n",
      "12      5.32\n",
      "13      5.08\n",
      "15      4.92\n",
      "17      4.66\n",
      "18      6.58\n",
      "21      5.16\n",
      "22      5.13\n",
      "24      5.17\n",
      "25      4.64\n",
      "26      5.82\n",
      "27      6.29\n",
      "28      5.10\n",
      "29      5.41\n",
      "30      5.48\n",
      "31      6.44\n",
      "32      5.53\n",
      "33      5.31\n",
      "34      5.52\n",
      "35      4.70\n",
      "36      5.13\n",
      "        ... \n",
      "5609    5.70\n",
      "5612    5.32\n",
      "5613    5.63\n",
      "5614    4.84\n",
      "5615    5.44\n",
      "5616    4.79\n",
      "5617    4.82\n",
      "5618    5.25\n",
      "5619    4.71\n",
      "5620    6.64\n",
      "5621    5.56\n",
      "5622    5.07\n",
      "5623    5.60\n",
      "5624    5.32\n",
      "5625    5.40\n",
      "5626    5.39\n",
      "5628    5.52\n",
      "5629    5.29\n",
      "5630    5.43\n",
      "5631    5.58\n",
      "5632    5.18\n",
      "5633    5.25\n",
      "5634    5.15\n",
      "5635    6.01\n",
      "5636    5.11\n",
      "5637    5.45\n",
      "5638    5.13\n",
      "5639    5.24\n",
      "5640    6.37\n",
      "5641    6.00\n",
      "Name: Y, Length: 4533, dtype: float64\n"
     ]
    }
   ],
   "source": [
    "print(df.loc[(df[var]>=df[var].quantile(0.1))&(df[var]<=df[var].quantile(0.9)),var])"
   ]
  },
  {
   "cell_type": "code",
   "execution_count": 17,
   "metadata": {
    "scrolled": false
   },
   "outputs": [
    {
     "name": "stdout",
     "output_type": "stream",
     "text": [
      "ID\n",
      "5642\n",
      "5732\n",
      "1\n"
     ]
    },
    {
     "data": {
      "image/png": "[encoded data removed]",
      "text/plain": [
       "<matplotlib.figure.Figure at 0xba929b0>"
      ]
     },
     "metadata": {},
     "output_type": "display_data"
    },
    {
     "name": "stdout",
     "output_type": "stream",
     "text": [
      "sex\n",
      "2\n",
      "1.0\n",
      "0.0\n"
     ]
    },
    {
     "data": {
      "image/png": "[encoded data removed]",
      "text/plain": [
       "<matplotlib.figure.Figure at 0xba71a20>"
      ]
     },
     "metadata": {},
     "output_type": "display_data"
    },
    {
     "name": "stdout",
     "output_type": "stream",
     "text": [
      "age\n",
      "76\n",
      "93\n",
      "3\n"
     ]
    },
    {
     "data": {
      "image/png": "[encoded data removed]",
      "text/plain": [
       "<matplotlib.figure.Figure at 0xbbf8668>"
      ]
     },
     "metadata": {},
     "output_type": "display_data"
    },
    {
     "name": "stdout",
     "output_type": "stream",
     "text": [
      "date\n",
      "30\n",
      "31/10/2017\n",
      "09/10/2017\n",
      "date can not be plotted\n",
      "PartI_1\n",
      "2164\n",
      "434.95\n",
      "10.04\n"
     ]
    },
    {
     "data": {
      "image/png": "[encoded data removed]",
      "text/plain": [
       "<matplotlib.figure.Figure at 0xbb3c748>"
      ]
     },
     "metadata": {},
     "output_type": "display_data"
    },
    {
     "name": "stdout",
     "output_type": "stream",
     "text": [
      "PartI_2\n",
      "2766\n",
      "498.89\n",
      "0.12\n"
     ]
    },
    {
     "data": {
      "image/png": "[encoded data removed]",
      "text/plain": [
       "<matplotlib.figure.Figure at 0xbb34518>"
      ]
     },
     "metadata": {},
     "output_type": "display_data"
    },
    {
     "name": "stdout",
     "output_type": "stream",
     "text": [
      "PartI_3\n",
      "3432\n",
      "374.32\n",
      "22.98\n"
     ]
    },
    {
     "data": {
      "image/png": "[encoded data removed]",
      "text/plain": [
       "<matplotlib.figure.Figure at 0xbd9ff60>"
      ]
     },
     "metadata": {},
     "output_type": "display_data"
    },
    {
     "name": "stdout",
     "output_type": "stream",
     "text": [
      "PartI_4\n",
      "3063\n",
      "736.99\n",
      "6.36\n"
     ]
    },
    {
     "data": {
      "image/png": "[encoded data removed]",
      "text/plain": [
       "<matplotlib.figure.Figure at 0xbfce198>"
      ]
     },
     "metadata": {},
     "output_type": "display_data"
    },
    {
     "name": "stdout",
     "output_type": "stream",
     "text": [
      "PartI_5\n",
      "1527\n",
      "100.41\n",
      "57.32\n"
     ]
    },
    {
     "data": {
      "image/png": "[encoded data removed]",
      "text/plain": [
       "<matplotlib.figure.Figure at 0xc003550>"
      ]
     },
     "metadata": {},
     "output_type": "display_data"
    },
    {
     "name": "stdout",
     "output_type": "stream",
     "text": [
      "PartI_6\n",
      "1088\n",
      "54.08\n",
      "29.54\n"
     ]
    },
    {
     "data": {
      "image/png": "[encoded data removed]",
      "text/plain": [
       "<matplotlib.figure.Figure at 0xbf47898>"
      ]
     },
     "metadata": {},
     "output_type": "display_data"
    },
    {
     "name": "stdout",
     "output_type": "stream",
     "text": [
      "PartI_7\n",
      "1390\n",
      "66.18\n",
      "7.06\n"
     ]
    },
    {
     "data": {
      "image/png": "[encoded data removed]",
      "text/plain": [
       "<matplotlib.figure.Figure at 0xbf1df98>"
      ]
     },
     "metadata": {},
     "output_type": "display_data"
    },
    {
     "name": "stdout",
     "output_type": "stream",
     "text": [
      "PartI_8\n",
      "143\n",
      "7.12\n",
      "0.52\n"
     ]
    },
    {
     "data": {
      "image/png": "[encoded data removed]",
      "text/plain": [
       "<matplotlib.figure.Figure at 0xa4000b8>"
      ]
     },
     "metadata": {},
     "output_type": "display_data"
    },
    {
     "name": "stdout",
     "output_type": "stream",
     "text": [
      "PartII_1\n",
      "534\n",
      "41.57\n",
      "0.27\n"
     ]
    },
    {
     "data": {
      "image/png": "[encoded data removed]",
      "text/plain": [
       "<matplotlib.figure.Figure at 0xbaef4e0>"
      ]
     },
     "metadata": {},
     "output_type": "display_data"
    },
    {
     "name": "stdout",
     "output_type": "stream",
     "text": [
      "PartII_2\n",
      "524\n",
      "20.46\n",
      "1.85\n"
     ]
    },
    {
     "data": {
      "image/png": "[encoded data removed]",
      "text/plain": [
       "<matplotlib.figure.Figure at 0xbf3ada0>"
      ]
     },
     "metadata": {},
     "output_type": "display_data"
    },
    {
     "name": "stdout",
     "output_type": "stream",
     "text": [
      "PartII_3\n",
      "191\n",
      "5.28\n",
      "0.54\n"
     ]
    },
    {
     "data": {
      "image/png": "[encoded data removed]",
      "text/plain": [
       "<matplotlib.figure.Figure at 0xbc35cf8>"
      ]
     },
     "metadata": {},
     "output_type": "display_data"
    },
    {
     "name": "stdout",
     "output_type": "stream",
     "text": [
      "PartII_4\n",
      "457\n",
      "8.46\n",
      "0.56\n"
     ]
    },
    {
     "data": {
      "image/png": "[encoded data removed]",
      "text/plain": [
       "<matplotlib.figure.Figure at 0xc0ae0b8>"
      ]
     },
     "metadata": {},
     "output_type": "display_data"
    },
    {
     "name": "stdout",
     "output_type": "stream",
     "text": [
      "PartIII_1\n",
      "630\n",
      "13.39\n",
      "1.5\n"
     ]
    },
    {
     "data": {
      "image/png": "[encoded data removed]",
      "text/plain": [
       "<matplotlib.figure.Figure at 0xba74780>"
      ]
     },
     "metadata": {},
     "output_type": "display_data"
    },
    {
     "name": "stdout",
     "output_type": "stream",
     "text": [
      "PartIII_2\n",
      "1841\n",
      "177.42\n",
      "39.43\n"
     ]
    },
    {
     "data": {
      "image/png": "[encoded data removed]",
      "text/plain": [
       "<matplotlib.figure.Figure at 0xba61f28>"
      ]
     },
     "metadata": {},
     "output_type": "display_data"
    },
    {
     "name": "stdout",
     "output_type": "stream",
     "text": [
      "PartIII_3\n",
      "3995\n",
      "774.06\n",
      "118.67\n"
     ]
    },
    {
     "data": {
      "image/png": "[encoded data removed]",
      "text/plain": [
       "<matplotlib.figure.Figure at 0xbf7ef28>"
      ]
     },
     "metadata": {},
     "output_type": "display_data"
    },
    {
     "name": "stdout",
     "output_type": "stream",
     "text": [
      "PartIV_1\n",
      "87\n",
      "44.35\n",
      "0.0\n"
     ]
    },
    {
     "data": {
      "image/png": "[encoded data removed]",
      "text/plain": [
       "<matplotlib.figure.Figure at 0xc1415f8>"
      ]
     },
     "metadata": {},
     "output_type": "display_data"
    },
    {
     "name": "stdout",
     "output_type": "stream",
     "text": [
      "PartIV_2\n",
      "793\n",
      "42.49\n",
      "0.0\n"
     ]
    },
    {
     "data": {
      "image/png": "[encoded data removed]",
      "text/plain": [
       "<matplotlib.figure.Figure at 0xc1dd828>"
      ]
     },
     "metadata": {},
     "output_type": "display_data"
    },
    {
     "name": "stdout",
     "output_type": "stream",
     "text": [
      "PartIV_3\n",
      "41\n",
      "17.52\n",
      "0.01\n"
     ]
    },
    {
     "data": {
      "image/png": "[encoded data removed]",
      "text/plain": [
       "<matplotlib.figure.Figure at 0xba5dc18>"
      ]
     },
     "metadata": {},
     "output_type": "display_data"
    },
    {
     "name": "stdout",
     "output_type": "stream",
     "text": [
      "PartIV_4\n",
      "375\n",
      "7.17\n",
      "0.0\n"
     ]
    },
    {
     "data": {
      "image/png": "[encoded data removed]",
      "text/plain": [
       "<matplotlib.figure.Figure at 0xc195198>"
      ]
     },
     "metadata": {},
     "output_type": "display_data"
    },
    {
     "name": "stdout",
     "output_type": "stream",
     "text": [
      "PartIV_5\n",
      "442\n",
      "17.09\n",
      "0.0\n"
     ]
    },
    {
     "data": {
      "image/png": "[encoded data removed]",
      "text/plain": [
       "<matplotlib.figure.Figure at 0xc0fdb38>"
      ]
     },
     "metadata": {},
     "output_type": "display_data"
    },
    {
     "name": "stdout",
     "output_type": "stream",
     "text": [
      "PartV_1\n",
      "785\n",
      "21.06\n",
      "2.8\n"
     ]
    },
    {
     "data": {
      "image/png": "[encoded data removed]",
      "text/plain": [
       "<matplotlib.figure.Figure at 0xa497dd8>"
      ]
     },
     "metadata": {},
     "output_type": "display_data"
    },
    {
     "name": "stdout",
     "output_type": "stream",
     "text": [
      "PartV_2\n",
      "292\n",
      "6.85\n",
      "3.01\n"
     ]
    },
    {
     "data": {
      "image/png": "[encoded data removed]",
      "text/plain": [
       "<matplotlib.figure.Figure at 0xbbf8908>"
      ]
     },
     "metadata": {},
     "output_type": "display_data"
    },
    {
     "name": "stdout",
     "output_type": "stream",
     "text": [
      "PartV_3\n",
      "353\n",
      "204.0\n",
      "65.0\n"
     ]
    },
    {
     "data": {
      "image/png": "[encoded data removed]",
      "text/plain": [
       "<matplotlib.figure.Figure at 0xbcfdfd0>"
      ]
     },
     "metadata": {},
     "output_type": "display_data"
    },
    {
     "name": "stdout",
     "output_type": "stream",
     "text": [
      "PartV_4\n",
      "256\n",
      "0.599\n",
      "0.239\n"
     ]
    },
    {
     "data": {
      "image/png": "[encoded data removed]",
      "text/plain": [
       "<matplotlib.figure.Figure at 0xbea02e8>"
      ]
     },
     "metadata": {},
     "output_type": "display_data"
    },
    {
     "name": "stdout",
     "output_type": "stream",
     "text": [
      "PartV_5\n",
      "315\n",
      "113.0\n",
      "59.0\n"
     ]
    },
    {
     "data": {
      "image/png": "[encoded data removed]",
      "text/plain": [
       "<matplotlib.figure.Figure at 0xbed7390>"
      ]
     },
     "metadata": {},
     "output_type": "display_data"
    },
    {
     "name": "stdout",
     "output_type": "stream",
     "text": [
      "PartV_6\n",
      "175\n",
      "44.7\n",
      "16.0\n"
     ]
    },
    {
     "data": {
      "image/png": "[encoded data removed]",
      "text/plain": [
       "<matplotlib.figure.Figure at 0xbfd2550>"
      ]
     },
     "metadata": {},
     "output_type": "display_data"
    },
    {
     "name": "stdout",
     "output_type": "stream",
     "text": [
      "PartV_7\n",
      "101\n",
      "462.0\n",
      "270.0\n"
     ]
    },
    {
     "data": {
      "image/png": "[encoded data removed]",
      "text/plain": [
       "<matplotlib.figure.Figure at 0xbfd2748>"
      ]
     },
     "metadata": {},
     "output_type": "display_data"
    },
    {
     "name": "stdout",
     "output_type": "stream",
     "text": [
      "PartV_8\n",
      "90\n",
      "23.8\n",
      "10.9\n"
     ]
    },
    {
     "data": {
      "image/png": "[encoded data removed]",
      "text/plain": [
       "<matplotlib.figure.Figure at 0xbf6c550>"
      ]
     },
     "metadata": {},
     "output_type": "display_data"
    },
    {
     "name": "stdout",
     "output_type": "stream",
     "text": [
      "PartVI_1\n",
      "359\n",
      "745.0\n",
      "37.0\n"
     ]
    },
    {
     "data": {
      "image/png": "[encoded data removed]",
      "text/plain": [
       "<matplotlib.figure.Figure at 0xa419e10>"
      ]
     },
     "metadata": {},
     "output_type": "display_data"
    },
    {
     "name": "stdout",
     "output_type": "stream",
     "text": [
      "PartVI_2\n",
      "75\n",
      "15.2\n",
      "7.1\n"
     ]
    },
    {
     "data": {
      "image/png": "[encoded data removed]",
      "text/plain": [
       "<matplotlib.figure.Figure at 0x1e655f8>"
      ]
     },
     "metadata": {},
     "output_type": "display_data"
    },
    {
     "name": "stdout",
     "output_type": "stream",
     "text": [
      "PartVI_3\n",
      "142\n",
      "25.3\n",
      "8.0\n"
     ]
    },
    {
     "data": {
      "image/png": "[encoded data removed]",
      "text/plain": [
       "<matplotlib.figure.Figure at 0xa42f438>"
      ]
     },
     "metadata": {},
     "output_type": "display_data"
    },
    {
     "name": "stdout",
     "output_type": "stream",
     "text": [
      "PartVI_4\n",
      "180\n",
      "0.71\n",
      "0.042\n"
     ]
    },
    {
     "data": {
      "image/png": "[encoded data removed]",
      "text/plain": [
       "<matplotlib.figure.Figure at 0xbac60b8>"
      ]
     },
     "metadata": {},
     "output_type": "display_data"
    },
    {
     "name": "stdout",
     "output_type": "stream",
     "text": [
      "PartV_9\n",
      "444\n",
      "88.5\n",
      "14.4\n"
     ]
    },
    {
     "data": {
      "image/png": "[encoded data removed]",
      "text/plain": [
       "<matplotlib.figure.Figure at 0xbcb00f0>"
      ]
     },
     "metadata": {},
     "output_type": "display_data"
    },
    {
     "name": "stdout",
     "output_type": "stream",
     "text": [
      "PartV_10\n",
      "410\n",
      "76.3\n",
      "7.5\n"
     ]
    },
    {
     "data": {
      "image/png": "[encoded data removed]",
      "text/plain": [
       "<matplotlib.figure.Figure at 0xbac5390>"
      ]
     },
     "metadata": {},
     "output_type": "display_data"
    },
    {
     "name": "stdout",
     "output_type": "stream",
     "text": [
      "PartV_11\n",
      "114\n",
      "23.2\n",
      "3.1\n"
     ]
    },
    {
     "data": {
      "image/png": "[encoded data removed]",
      "text/plain": [
       "<matplotlib.figure.Figure at 0xbb2a6d8>"
      ]
     },
     "metadata": {},
     "output_type": "display_data"
    },
    {
     "name": "stdout",
     "output_type": "stream",
     "text": [
      "PartV_12\n",
      "124\n",
      "22.5\n",
      "0.0\n"
     ]
    },
    {
     "data": {
      "image/png": "[encoded data removed]",
      "text/plain": [
       "<matplotlib.figure.Figure at 0xbc54668>"
      ]
     },
     "metadata": {},
     "output_type": "display_data"
    },
    {
     "name": "stdout",
     "output_type": "stream",
     "text": [
      "PartV_13\n",
      "27\n",
      "3.5\n",
      "0.0\n"
     ]
    },
    {
     "data": {
      "image/png": "[encoded data removed]",
      "text/plain": [
       "<matplotlib.figure.Figure at 0xbebab38>"
      ]
     },
     "metadata": {},
     "output_type": "display_data"
    },
    {
     "name": "stdout",
     "output_type": "stream",
     "text": [
      "Y\n",
      "611\n",
      "38.43\n",
      "3.07\n"
     ]
    },
    {
     "data": {
      "image/png": "[encoded data removed]",
      "text/plain": [
       "<matplotlib.figure.Figure at 0xc11b978>"
      ]
     },
     "metadata": {},
     "output_type": "display_data"
    }
   ],
   "source": [
    "for var in df:\n",
    "    print(var)\n",
    "    print(df[var].nunique())\n",
    "    print(df[var].max())\n",
    "    print(df[var].min())\n",
    "    try:\n",
    "        plt.hist(df.loc[(df[var]>=df[var].quantile(0.1))&(df[var]<=df[var].quantile(0.9)),var],bins=50)\n",
    "        plt.show()\n",
    "    except:\n",
    "        print('%s can not be plotted'%var)\n",
    "        continue"
   ]
  },
  {
   "cell_type": "code",
   "execution_count": 55,
   "metadata": {},
   "outputs": [
    {
     "data": {
      "text/plain": [
       "0       0.0\n",
       "1       0.0\n",
       "2       0.0\n",
       "3       0.0\n",
       "4       0.0\n",
       "5       0.0\n",
       "6       0.0\n",
       "7       0.0\n",
       "8       0.0\n",
       "9       0.0\n",
       "10      0.0\n",
       "11      0.0\n",
       "12      0.0\n",
       "13      0.0\n",
       "14      0.0\n",
       "15      0.0\n",
       "16      0.0\n",
       "17      0.0\n",
       "18      0.0\n",
       "19      0.0\n",
       "20      0.0\n",
       "21      0.0\n",
       "22      0.0\n",
       "23      0.0\n",
       "24      0.0\n",
       "25      0.0\n",
       "26      0.0\n",
       "27      0.0\n",
       "28      0.0\n",
       "29      0.0\n",
       "       ... \n",
       "5612    0.0\n",
       "5613    NaN\n",
       "5614    NaN\n",
       "5615    0.0\n",
       "5616    0.0\n",
       "5617    0.0\n",
       "5618    0.0\n",
       "5619    0.0\n",
       "5620    0.0\n",
       "5621    0.0\n",
       "5622    0.0\n",
       "5623    0.0\n",
       "5624    0.0\n",
       "5625    0.0\n",
       "5626    0.0\n",
       "5627    0.0\n",
       "5628    0.0\n",
       "5629    0.0\n",
       "5630    0.0\n",
       "5631    0.0\n",
       "5632    1.0\n",
       "5633    0.0\n",
       "5634    0.0\n",
       "5635    0.0\n",
       "5636    0.0\n",
       "5637    0.0\n",
       "5638    0.0\n",
       "5639    0.0\n",
       "5640    0.0\n",
       "5641    0.0\n",
       "Name: PartI_1, Length: 5642, dtype: category\n",
       "Categories (10, int64): [0 < 1 < 2 < 3 ... 6 < 7 < 8 < 9]"
      ]
     },
     "execution_count": 55,
     "metadata": {},
     "output_type": "execute_result"
    }
   ],
   "source": [
    "a,b = pd.cut(df['PartI_1'],bins=10,retbins =True,labels=range(10))\n"
   ]
  },
  {
   "cell_type": "code",
   "execution_count": null,
   "metadata": {
    "collapsed": true
   },
   "outputs": [],
   "source": []
  },
  {
   "cell_type": "code",
   "execution_count": null,
   "metadata": {
    "collapsed": true
   },
   "outputs": [],
   "source": []
  },
  {
   "cell_type": "code",
   "execution_count": null,
   "metadata": {
    "collapsed": true
   },
   "outputs": [],
   "source": []
  },
  {
   "cell_type": "code",
   "execution_count": null,
   "metadata": {
    "collapsed": true
   },
   "outputs": [],
   "source": []
  },
  {
   "cell_type": "code",
   "execution_count": null,
   "metadata": {
    "collapsed": true
   },
   "outputs": [],
   "source": []
  },
  {
   "cell_type": "code",
   "execution_count": null,
   "metadata": {
    "collapsed": true
   },
   "outputs": [],
   "source": []
  }
 ],
 "metadata": {
  "kernelspec": {
   "display_name": "Python 3",
   "language": "python",
   "name": "python3"
  },
  "language_info": {
   "codemirror_mode": {
    "name": "ipython",
    "version": 3
   },
   "file_extension": ".py",
   "mimetype": "text/x-python",
   "name": "python",
   "nbconvert_exporter": "python",
   "pygments_lexer": "ipython3",
   "version": "3.6.3"
  }
 },
 "nbformat": 4,
 "nbformat_minor": 2
}
