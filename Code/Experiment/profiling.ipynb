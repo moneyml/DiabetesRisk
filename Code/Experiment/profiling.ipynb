{
 "cells": [
  {
   "cell_type": "code",
   "execution_count": 7,
   "metadata": {},
   "outputs": [],
   "source": [
    "import pandas as pd\n",
    "import numpy as np\n",
    "import matplotlib.pyplot as plt \n",
    "\n",
    "\n"
   ]
  },
  {
   "cell_type": "code",
   "execution_count": null,
   "metadata": {
    "collapsed": true
   },
   "outputs": [],
   "source": [
    "df = pd.read_csv('../../Data/d_train_20180102.csv')"
   ]
  },
  {
   "cell_type": "code",
   "execution_count": 107,
   "metadata": {},
   "outputs": [],
   "source": [
    "def custom_boxplot(df,baseVar,checkVar,category=True,bins=10):\n",
    "    dfPlot = df.copy()\n",
    "    if baseVar == checkVar:\n",
    "        print(dfPlot[checkVar].T.values.tolist())\n",
    "        plt.boxplot(dfPlot[checkVar].T.values.tolist(), labels =checkVar)  \n",
    "        plt.show()\n",
    "    else:\n",
    "        if category:\n",
    "            dfPlot = dfPlot.set_index(dfPlot[baseVar])\n",
    "            plt.boxplot([dfPlot.loc[var,checkVar].tolist() for var in dfPlot[baseVar].unique()],labels =dfPlot[baseVar].unique()) \n",
    "            plt.show()\n",
    "        else:\n",
    "            dfPlot['bins'] = pd.qcut(dfPlot[baseVar],q=bins,labels=range(bins))\n",
    "            dfPlot['bins'] = dfPlot['bins'].astype(int)\n",
    "            dfPlot['bins'] = dfPlot['bins'].fillna(-1)\n",
    "            dfOutput = dfPlot.groupby(['bins'])\n",
    "            data = []\n",
    "            for name,grp in dfOutput:\n",
    "                data.append(grp[checkVar].values.tolist())\n",
    "            plt.boxplot(data,labels =dfPlot['bins'].unique()) \n",
    "            plt.show()\n"
   ]
  },
  {
   "cell_type": "code",
   "execution_count": 108,
   "metadata": {},
   "outputs": [
    {
     "data": {
      "image/png": "[encoded data removed]",
      "text/plain": [
       "<matplotlib.figure.Figure at 0xcf191d0>"
      ]
     },
     "metadata": {},
     "output_type": "display_data"
    }
   ],
   "source": [
    "custom_boxplot(df,'PartI_1','Y',False)"
   ]
  },
  {
   "cell_type": "code",
   "execution_count": 55,
   "metadata": {},
   "outputs": [
    {
     "data": {
      "text/plain": [
       "0       0.0\n",
       "1       0.0\n",
       "2       0.0\n",
       "3       0.0\n",
       "4       0.0\n",
       "5       0.0\n",
       "6       0.0\n",
       "7       0.0\n",
       "8       0.0\n",
       "9       0.0\n",
       "10      0.0\n",
       "11      0.0\n",
       "12      0.0\n",
       "13      0.0\n",
       "14      0.0\n",
       "15      0.0\n",
       "16      0.0\n",
       "17      0.0\n",
       "18      0.0\n",
       "19      0.0\n",
       "20      0.0\n",
       "21      0.0\n",
       "22      0.0\n",
       "23      0.0\n",
       "24      0.0\n",
       "25      0.0\n",
       "26      0.0\n",
       "27      0.0\n",
       "28      0.0\n",
       "29      0.0\n",
       "       ... \n",
       "5612    0.0\n",
       "5613    NaN\n",
       "5614    NaN\n",
       "5615    0.0\n",
       "5616    0.0\n",
       "5617    0.0\n",
       "5618    0.0\n",
       "5619    0.0\n",
       "5620    0.0\n",
       "5621    0.0\n",
       "5622    0.0\n",
       "5623    0.0\n",
       "5624    0.0\n",
       "5625    0.0\n",
       "5626    0.0\n",
       "5627    0.0\n",
       "5628    0.0\n",
       "5629    0.0\n",
       "5630    0.0\n",
       "5631    0.0\n",
       "5632    1.0\n",
       "5633    0.0\n",
       "5634    0.0\n",
       "5635    0.0\n",
       "5636    0.0\n",
       "5637    0.0\n",
       "5638    0.0\n",
       "5639    0.0\n",
       "5640    0.0\n",
       "5641    0.0\n",
       "Name: PartI_1, Length: 5642, dtype: category\n",
       "Categories (10, int64): [0 < 1 < 2 < 3 ... 6 < 7 < 8 < 9]"
      ]
     },
     "execution_count": 55,
     "metadata": {},
     "output_type": "execute_result"
    }
   ],
   "source": [
    "a,b = pd.cut(df['PartI_1'],bins=10,retbins =True,labels=range(10))\n"
   ]
  },
  {
   "cell_type": "code",
   "execution_count": null,
   "metadata": {
    "collapsed": true
   },
   "outputs": [],
   "source": []
  },
  {
   "cell_type": "code",
   "execution_count": null,
   "metadata": {
    "collapsed": true
   },
   "outputs": [],
   "source": []
  },
  {
   "cell_type": "code",
   "execution_count": null,
   "metadata": {
    "collapsed": true
   },
   "outputs": [],
   "source": []
  },
  {
   "cell_type": "code",
   "execution_count": null,
   "metadata": {
    "collapsed": true
   },
   "outputs": [],
   "source": []
  },
  {
   "cell_type": "code",
   "execution_count": null,
   "metadata": {
    "collapsed": true
   },
   "outputs": [],
   "source": []
  },
  {
   "cell_type": "code",
   "execution_count": null,
   "metadata": {
    "collapsed": true
   },
   "outputs": [],
   "source": []
  }
 ],
 "metadata": {
  "kernelspec": {
   "display_name": "Python 3",
   "language": "python",
   "name": "python3"
  },
  "language_info": {
   "codemirror_mode": {
    "name": "ipython",
    "version": 3
   },
   "file_extension": ".py",
   "mimetype": "text/x-python",
   "name": "python",
   "nbconvert_exporter": "python",
   "pygments_lexer": "ipython3",
   "version": "3.6.3"
  }
 },
 "nbformat": 4,
 "nbformat_minor": 2
}
